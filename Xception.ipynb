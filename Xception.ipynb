{
  "cells": [
    {
      "cell_type": "code",
      "execution_count": 1,
      "metadata": {
        "colab": {
          "base_uri": "https://localhost:8080/"
        },
        "id": "UuKgcAmiV3bx",
        "outputId": "7f7d799e-abf7-4f8b-a986-288f20e3ecd2"
      },
      "outputs": [
        {
          "output_type": "stream",
          "name": "stdout",
          "text": [
            "Mounted at /content/drive\n"
          ]
        }
      ],
      "source": [
        "from google.colab import drive\n",
        "drive.mount('/content/drive')"
      ]
    },
    {
      "cell_type": "code",
      "execution_count": 2,
      "metadata": {
        "colab": {
          "base_uri": "https://localhost:8080/"
        },
        "id": "_w2Po1rXXSjc",
        "outputId": "de19b453-2907-411b-e0a3-18419d5e2ad3"
      },
      "outputs": [
        {
          "output_type": "stream",
          "name": "stdout",
          "text": [
            "Tensorflow version: 2.12.0\n"
          ]
        }
      ],
      "source": [
        "import numpy as np\n",
        "import seaborn as sns\n",
        "import matplotlib.pyplot as plt\n",
        "import os\n",
        "\n",
        "%matplotlib inline\n",
        "\n",
        "from tensorflow.keras.preprocessing.image import ImageDataGenerator\n",
        "from tensorflow.keras.layers import Dense, Input, Dropout,Flatten, Conv2D\n",
        "from tensorflow.keras.layers import BatchNormalization, Activation, MaxPooling2D\n",
        "from tensorflow.keras.models import Model, Sequential\n",
        "from tensorflow.keras.optimizers import Adam\n",
        "from tensorflow.keras.callbacks import ModelCheckpoint, ReduceLROnPlateau\n",
        "from tensorflow.keras.losses import categorical_crossentropy\n",
        "from tensorflow.keras.preprocessing.image import ImageDataGenerator\n",
        "from tensorflow.keras.models import Model\n",
        "from tensorflow.keras.layers import Conv2D, MaxPooling2D, BatchNormalization\n",
        "from tensorflow.keras.layers import SeparableConv2D, GlobalAveragePooling2D\n",
        "from tensorflow.keras.layers import concatenate, Input, Dense, Dropout\n",
        "from tensorflow.keras.optimizers import Adam\n",
        "from tensorflow.keras.callbacks import EarlyStopping, ModelCheckpoint\n",
        "\n",
        "import tensorflow as tf\n",
        "print(\"Tensorflow version:\", tf.__version__)"
      ]
    },
    {
      "cell_type": "code",
      "execution_count": 3,
      "metadata": {
        "id": "F5aVRkAAXPsT"
      },
      "outputs": [],
      "source": [
        "from zipfile import ZipFile\n",
        "file_name = \"/content/drive/MyDrive/archive.zip\""
      ]
    },
    {
      "cell_type": "code",
      "execution_count": 4,
      "metadata": {
        "colab": {
          "base_uri": "https://localhost:8080/"
        },
        "id": "FckZag99XHnT",
        "outputId": "ff0fef82-137b-4621-c46c-5d30eaf6133f"
      },
      "outputs": [
        {
          "output_type": "stream",
          "name": "stdout",
          "text": [
            "Done\n"
          ]
        }
      ],
      "source": [
        "with ZipFile(file_name,'r') as zip:\n",
        "  zip.extractall()\n",
        "  print('Done')"
      ]
    },
    {
      "cell_type": "code",
      "execution_count": 5,
      "metadata": {
        "id": "Nb1fDuWgXLf2"
      },
      "outputs": [],
      "source": [
        "from tensorflow.keras.preprocessing.image import ImageDataGenerator\n",
        "train_dir = \"/content/train\" # Directory containing the training data\n",
        "test_dir = \"/content/test\"  # Directory containing the validation data"
      ]
    },
    {
      "cell_type": "code",
      "execution_count": 6,
      "metadata": {
        "id": "qmFu89oda1gR"
      },
      "outputs": [],
      "source": [
        "import cv2\n",
        "import numpy as np\n",
        "import os\n",
        "from keras.preprocessing.image import ImageDataGenerator\n",
        "from keras import backend as K\n",
        "import keras\n",
        "from keras.models import Sequential, Model,load_model\n",
        "from keras.optimizers import SGD\n",
        "from keras.callbacks import EarlyStopping,ModelCheckpoint\n",
        "from google.colab.patches import cv2_imshow\n",
        "from keras.layers import Input, Add, Dense, Activation, ZeroPadding2D, BatchNormalization, Flatten, Conv2D, AveragePooling2D, MaxPooling2D, GlobalMaxPooling2D,MaxPool2D\n",
        "from keras.preprocessing import image\n",
        "from keras.initializers import glorot_uniform\n",
        "import numpy as np\n",
        "import pandas as pd\n",
        "import matplotlib.pyplot as plt\n",
        "import seaborn as sn\n",
        "import skimage.io\n",
        "import keras.backend as K\n",
        "import tensorflow as tf\n",
        "from tensorflow.keras.preprocessing.image import ImageDataGenerator\n",
        "from tensorflow.keras.applications import ResNet50\n",
        "from tensorflow.keras.layers import Dense, Flatten, Dropout,BatchNormalization ,Activation\n",
        "from tensorflow.keras.models import Model, Sequential\n",
        "from keras.applications.nasnet import NASNetLarge\n",
        "from tensorflow.keras.callbacks import ReduceLROnPlateau, ModelCheckpoint, EarlyStopping\n",
        "from tensorflow.keras.optimizers import Adam"
      ]
    },
    {
      "cell_type": "code",
      "execution_count": 15,
      "metadata": {
        "colab": {
          "base_uri": "https://localhost:8080/"
        },
        "id": "nGqsig8gbA6u",
        "outputId": "77dcf6a4-230d-4f88-8934-8d01cc196b69"
      },
      "outputs": [
        {
          "output_type": "stream",
          "name": "stdout",
          "text": [
            "Found 22968 images belonging to 7 classes.\n",
            "Found 5741 images belonging to 7 classes.\n",
            "Found 7178 images belonging to 7 classes.\n"
          ]
        }
      ],
      "source": [
        "train_datagen = ImageDataGenerator(rescale = 1./255,\n",
        "                                   validation_split = 0.2,\n",
        "\n",
        "        rotation_range=5,\n",
        "        width_shift_range=0.2,\n",
        "        height_shift_range=0.2,\n",
        "        shear_range=0.2,\n",
        "        #zoom_range=0.2,\n",
        "        horizontal_flip=True,\n",
        "        vertical_flip=True,\n",
        "        fill_mode='nearest')\n",
        "\n",
        "valid_datagen = ImageDataGenerator(rescale = 1./255,\n",
        "                                  validation_split = 0.2)\n",
        "\n",
        "test_datagen  = ImageDataGenerator(rescale = 1./255\n",
        "                                  )\n",
        "train_dataset  = train_datagen.flow_from_directory(directory = '/content/train',\n",
        "                                                   target_size = (64, 64),\n",
        "                                                   class_mode = 'categorical',\n",
        "                                                   subset = 'training',\n",
        "                                                   batch_size = 256)\n",
        "\n",
        "valid_dataset = valid_datagen.flow_from_directory(directory = '/content/train',\n",
        "                                                  target_size = (64, 64),\n",
        "                                                  class_mode = 'categorical',\n",
        "                                                  subset = 'validation',\n",
        "                                                  batch_size = 256)\n",
        "test_dataset = test_datagen.flow_from_directory(directory = '/content/test',\n",
        "                                                  target_size = (64, 64),\n",
        "                                                  class_mode = 'categorical',\n",
        "                                                  batch_size = 256)"
      ]
    },
    {
      "cell_type": "code",
      "execution_count": 16,
      "metadata": {
        "colab": {
          "base_uri": "https://localhost:8080/"
        },
        "id": "2-Esb_qTX8N0",
        "outputId": "68c354a6-0f5f-467c-dde2-04c289beb871"
      },
      "outputs": [
        {
          "output_type": "stream",
          "name": "stdout",
          "text": [
            "Model: \"model_2\"\n",
            "__________________________________________________________________________________________________\n",
            " Layer (type)                   Output Shape         Param #     Connected to                     \n",
            "==================================================================================================\n",
            " input_3 (InputLayer)           [(None, 64, 64, 3)]  0           []                               \n",
            "                                                                                                  \n",
            " conv2d_12 (Conv2D)             (None, 62, 62, 32)   896         ['input_3[0][0]']                \n",
            "                                                                                                  \n",
            " batch_normalization_44 (BatchN  (None, 62, 62, 32)  128         ['conv2d_12[0][0]']              \n",
            " ormalization)                                                                                    \n",
            "                                                                                                  \n",
            " tf.nn.relu_30 (TFOpLambda)     (None, 62, 62, 32)   0           ['batch_normalization_44[0][0]'] \n",
            "                                                                                                  \n",
            " conv2d_13 (Conv2D)             (None, 60, 60, 64)   18496       ['tf.nn.relu_30[0][0]']          \n",
            "                                                                                                  \n",
            " batch_normalization_45 (BatchN  (None, 60, 60, 64)  256         ['conv2d_13[0][0]']              \n",
            " ormalization)                                                                                    \n",
            "                                                                                                  \n",
            " tf.nn.relu_31 (TFOpLambda)     (None, 60, 60, 64)   0           ['batch_normalization_45[0][0]'] \n",
            "                                                                                                  \n",
            " separable_conv2d_32 (Separable  (None, 60, 60, 128)  8896       ['tf.nn.relu_31[0][0]']          \n",
            " Conv2D)                                                                                          \n",
            "                                                                                                  \n",
            " batch_normalization_47 (BatchN  (None, 60, 60, 128)  512        ['separable_conv2d_32[0][0]']    \n",
            " ormalization)                                                                                    \n",
            "                                                                                                  \n",
            " tf.nn.relu_32 (TFOpLambda)     (None, 60, 60, 128)  0           ['batch_normalization_47[0][0]'] \n",
            "                                                                                                  \n",
            " separable_conv2d_33 (Separable  (None, 60, 60, 128)  17664      ['tf.nn.relu_32[0][0]']          \n",
            " Conv2D)                                                                                          \n",
            "                                                                                                  \n",
            " batch_normalization_48 (BatchN  (None, 60, 60, 128)  512        ['separable_conv2d_33[0][0]']    \n",
            " ormalization)                                                                                    \n",
            "                                                                                                  \n",
            " conv2d_14 (Conv2D)             (None, 30, 30, 128)  8320        ['tf.nn.relu_31[0][0]']          \n",
            "                                                                                                  \n",
            " max_pooling2d_8 (MaxPooling2D)  (None, 30, 30, 128)  0          ['batch_normalization_48[0][0]'] \n",
            "                                                                                                  \n",
            " batch_normalization_46 (BatchN  (None, 30, 30, 128)  512        ['conv2d_14[0][0]']              \n",
            " ormalization)                                                                                    \n",
            "                                                                                                  \n",
            " first (Concatenate)            (None, 30, 30, 256)  0           ['max_pooling2d_8[0][0]',        \n",
            "                                                                  'batch_normalization_46[0][0]'] \n",
            "                                                                                                  \n",
            " separable_conv2d_34 (Separable  (None, 30, 30, 128)  35200      ['first[0][0]']                  \n",
            " Conv2D)                                                                                          \n",
            "                                                                                                  \n",
            " batch_normalization_50 (BatchN  (None, 30, 30, 128)  512        ['separable_conv2d_34[0][0]']    \n",
            " ormalization)                                                                                    \n",
            "                                                                                                  \n",
            " tf.nn.relu_33 (TFOpLambda)     (None, 30, 30, 128)  0           ['batch_normalization_50[0][0]'] \n",
            "                                                                                                  \n",
            " separable_conv2d_35 (Separable  (None, 30, 30, 128)  17664      ['tf.nn.relu_33[0][0]']          \n",
            " Conv2D)                                                                                          \n",
            "                                                                                                  \n",
            " batch_normalization_51 (BatchN  (None, 30, 30, 128)  512        ['separable_conv2d_35[0][0]']    \n",
            " ormalization)                                                                                    \n",
            "                                                                                                  \n",
            " conv2d_15 (Conv2D)             (None, 15, 15, 128)  32896       ['first[0][0]']                  \n",
            "                                                                                                  \n",
            " max_pooling2d_9 (MaxPooling2D)  (None, 15, 15, 128)  0          ['batch_normalization_51[0][0]'] \n",
            "                                                                                                  \n",
            " batch_normalization_49 (BatchN  (None, 15, 15, 128)  512        ['conv2d_15[0][0]']              \n",
            " ormalization)                                                                                    \n",
            "                                                                                                  \n",
            " second (Concatenate)           (None, 15, 15, 256)  0           ['max_pooling2d_9[0][0]',        \n",
            "                                                                  'batch_normalization_49[0][0]'] \n",
            "                                                                                                  \n",
            " separable_conv2d_36 (Separable  (None, 15, 15, 256)  68096      ['second[0][0]']                 \n",
            " Conv2D)                                                                                          \n",
            "                                                                                                  \n",
            " batch_normalization_53 (BatchN  (None, 15, 15, 256)  1024       ['separable_conv2d_36[0][0]']    \n",
            " ormalization)                                                                                    \n",
            "                                                                                                  \n",
            " tf.nn.relu_34 (TFOpLambda)     (None, 15, 15, 256)  0           ['batch_normalization_53[0][0]'] \n",
            "                                                                                                  \n",
            " separable_conv2d_37 (Separable  (None, 15, 15, 256)  68096      ['tf.nn.relu_34[0][0]']          \n",
            " Conv2D)                                                                                          \n",
            "                                                                                                  \n",
            " conv2d_16 (Conv2D)             (None, 15, 15, 128)  32896       ['second[0][0]']                 \n",
            "                                                                                                  \n",
            " batch_normalization_54 (BatchN  (None, 15, 15, 256)  1024       ['separable_conv2d_37[0][0]']    \n",
            " ormalization)                                                                                    \n",
            "                                                                                                  \n",
            " batch_normalization_52 (BatchN  (None, 15, 15, 128)  512        ['conv2d_16[0][0]']              \n",
            " ormalization)                                                                                    \n",
            "                                                                                                  \n",
            " max_pooling2d_11 (MaxPooling2D  (None, 7, 7, 256)   0           ['batch_normalization_54[0][0]'] \n",
            " )                                                                                                \n",
            "                                                                                                  \n",
            " max_pooling2d_10 (MaxPooling2D  (None, 7, 7, 128)   0           ['batch_normalization_52[0][0]'] \n",
            " )                                                                                                \n",
            "                                                                                                  \n",
            " third (Concatenate)            (None, 7, 7, 384)    0           ['max_pooling2d_11[0][0]',       \n",
            "                                                                  'max_pooling2d_10[0][0]']       \n",
            "                                                                                                  \n",
            " tf.nn.relu_35 (TFOpLambda)     (None, 7, 7, 384)    0           ['third[0][0]']                  \n",
            "                                                                                                  \n",
            " separable_conv2d_38 (Separable  (None, 7, 7, 512)   200576      ['tf.nn.relu_35[0][0]']          \n",
            " Conv2D)                                                                                          \n",
            "                                                                                                  \n",
            " batch_normalization_55 (BatchN  (None, 7, 7, 512)   2048        ['separable_conv2d_38[0][0]']    \n",
            " ormalization)                                                                                    \n",
            "                                                                                                  \n",
            " tf.nn.relu_36 (TFOpLambda)     (None, 7, 7, 512)    0           ['batch_normalization_55[0][0]'] \n",
            "                                                                                                  \n",
            " separable_conv2d_39 (Separable  (None, 7, 7, 512)   267264      ['tf.nn.relu_36[0][0]']          \n",
            " Conv2D)                                                                                          \n",
            "                                                                                                  \n",
            " batch_normalization_56 (BatchN  (None, 7, 7, 512)   2048        ['separable_conv2d_39[0][0]']    \n",
            " ormalization)                                                                                    \n",
            "                                                                                                  \n",
            " tf.nn.relu_37 (TFOpLambda)     (None, 7, 7, 512)    0           ['batch_normalization_56[0][0]'] \n",
            "                                                                                                  \n",
            " separable_conv2d_40 (Separable  (None, 7, 7, 512)   267264      ['tf.nn.relu_37[0][0]']          \n",
            " Conv2D)                                                                                          \n",
            "                                                                                                  \n",
            " batch_normalization_57 (BatchN  (None, 7, 7, 512)   2048        ['separable_conv2d_40[0][0]']    \n",
            " ormalization)                                                                                    \n",
            "                                                                                                  \n",
            " fourth (Concatenate)           (None, 7, 7, 896)    0           ['batch_normalization_57[0][0]', \n",
            "                                                                  'third[0][0]']                  \n",
            "                                                                                                  \n",
            " tf.nn.relu_38 (TFOpLambda)     (None, 7, 7, 896)    0           ['fourth[0][0]']                 \n",
            "                                                                                                  \n",
            " separable_conv2d_41 (Separable  (None, 7, 7, 512)   467328      ['tf.nn.relu_38[0][0]']          \n",
            " Conv2D)                                                                                          \n",
            "                                                                                                  \n",
            " batch_normalization_58 (BatchN  (None, 7, 7, 512)   2048        ['separable_conv2d_41[0][0]']    \n",
            " ormalization)                                                                                    \n",
            "                                                                                                  \n",
            " tf.nn.relu_39 (TFOpLambda)     (None, 7, 7, 512)    0           ['batch_normalization_58[0][0]'] \n",
            "                                                                                                  \n",
            " separable_conv2d_42 (Separable  (None, 7, 7, 256)   135936      ['tf.nn.relu_39[0][0]']          \n",
            " Conv2D)                                                                                          \n",
            "                                                                                                  \n",
            " batch_normalization_59 (BatchN  (None, 7, 7, 256)   1024        ['separable_conv2d_42[0][0]']    \n",
            " ormalization)                                                                                    \n",
            "                                                                                                  \n",
            " tf.nn.relu_40 (TFOpLambda)     (None, 7, 7, 256)    0           ['batch_normalization_59[0][0]'] \n",
            "                                                                                                  \n",
            " separable_conv2d_43 (Separable  (None, 7, 7, 256)   68096       ['tf.nn.relu_40[0][0]']          \n",
            " Conv2D)                                                                                          \n",
            "                                                                                                  \n",
            " batch_normalization_60 (BatchN  (None, 7, 7, 256)   1024        ['separable_conv2d_43[0][0]']    \n",
            " ormalization)                                                                                    \n",
            "                                                                                                  \n",
            " fifth (Concatenate)            (None, 7, 7, 1152)   0           ['batch_normalization_60[0][0]', \n",
            "                                                                  'fourth[0][0]']                 \n",
            "                                                                                                  \n",
            " tf.nn.relu_41 (TFOpLambda)     (None, 7, 7, 1152)   0           ['fifth[0][0]']                  \n",
            "                                                                                                  \n",
            " separable_conv2d_44 (Separable  (None, 7, 7, 512)   600704      ['tf.nn.relu_41[0][0]']          \n",
            " Conv2D)                                                                                          \n",
            "                                                                                                  \n",
            " batch_normalization_62 (BatchN  (None, 7, 7, 512)   2048        ['separable_conv2d_44[0][0]']    \n",
            " ormalization)                                                                                    \n",
            "                                                                                                  \n",
            " tf.nn.relu_42 (TFOpLambda)     (None, 7, 7, 512)    0           ['batch_normalization_62[0][0]'] \n",
            "                                                                                                  \n",
            " separable_conv2d_45 (Separable  (None, 7, 7, 512)   267264      ['tf.nn.relu_42[0][0]']          \n",
            " Conv2D)                                                                                          \n",
            "                                                                                                  \n",
            " conv2d_17 (Conv2D)             (None, 7, 7, 256)    295168      ['fifth[0][0]']                  \n",
            "                                                                                                  \n",
            " batch_normalization_63 (BatchN  (None, 7, 7, 512)   2048        ['separable_conv2d_45[0][0]']    \n",
            " ormalization)                                                                                    \n",
            "                                                                                                  \n",
            " batch_normalization_61 (BatchN  (None, 7, 7, 256)   1024        ['conv2d_17[0][0]']              \n",
            " ormalization)                                                                                    \n",
            "                                                                                                  \n",
            " sixth (Concatenate)            (None, 7, 7, 768)    0           ['batch_normalization_63[0][0]', \n",
            "                                                                  'batch_normalization_61[0][0]'] \n",
            "                                                                                                  \n",
            " separable_conv2d_46 (Separable  (None, 7, 7, 256)   203776      ['sixth[0][0]']                  \n",
            " Conv2D)                                                                                          \n",
            "                                                                                                  \n",
            " batch_normalization_64 (BatchN  (None, 7, 7, 256)   1024        ['separable_conv2d_46[0][0]']    \n",
            " ormalization)                                                                                    \n",
            "                                                                                                  \n",
            " tf.nn.relu_43 (TFOpLambda)     (None, 7, 7, 256)    0           ['batch_normalization_64[0][0]'] \n",
            "                                                                                                  \n",
            " separable_conv2d_47 (Separable  (None, 7, 7, 256)   68096       ['tf.nn.relu_43[0][0]']          \n",
            " Conv2D)                                                                                          \n",
            "                                                                                                  \n",
            " batch_normalization_65 (BatchN  (None, 7, 7, 256)   1024        ['separable_conv2d_47[0][0]']    \n",
            " ormalization)                                                                                    \n",
            "                                                                                                  \n",
            " tf.nn.relu_44 (TFOpLambda)     (None, 7, 7, 256)    0           ['batch_normalization_65[0][0]'] \n",
            "                                                                                                  \n",
            " global_average_pooling2d_2 (Gl  (None, 256)         0           ['tf.nn.relu_44[0][0]']          \n",
            " obalAveragePooling2D)                                                                            \n",
            "                                                                                                  \n",
            " dense_6 (Dense)                (None, 128)          32896       ['global_average_pooling2d_2[0][0\n",
            "                                                                 ]']                              \n",
            "                                                                                                  \n",
            " dropout_4 (Dropout)            (None, 128)          0           ['dense_6[0][0]']                \n",
            "                                                                                                  \n",
            " dense_7 (Dense)                (None, 64)           8256        ['dropout_4[0][0]']              \n",
            "                                                                                                  \n",
            " dropout_5 (Dropout)            (None, 64)           0           ['dense_7[0][0]']                \n",
            "                                                                                                  \n",
            " dense_8 (Dense)                (None, 7)            455         ['dropout_5[0][0]']              \n",
            "                                                                                                  \n",
            "==================================================================================================\n",
            "Total params: 3,215,623\n",
            "Trainable params: 3,203,911\n",
            "Non-trainable params: 11,712\n",
            "__________________________________________________________________________________________________\n"
          ]
        }
      ],
      "source": [
        "inputs = Input((64,64,3))\n",
        "\n",
        "h = Conv2D(32, (3,3))(inputs)\n",
        "h = BatchNormalization()(h)\n",
        "h = tf.nn.relu(h)\n",
        "h = Conv2D(64, (3,3))(h)\n",
        "h = BatchNormalization()(h)\n",
        "h = tf.nn.relu(h)\n",
        "\n",
        "b = Conv2D(128, (1,1), strides = (2,2))(h)\n",
        "b = BatchNormalization()(b)\n",
        "\n",
        "h = SeparableConv2D(128, (3,3), padding='same')(h)\n",
        "h = BatchNormalization()(h)\n",
        "h = tf.nn.relu(h)\n",
        "h = SeparableConv2D(128, (3,3), padding='same')(h)\n",
        "h = BatchNormalization()(h)\n",
        "h = MaxPooling2D((2,2))(h)\n",
        "\n",
        "h = concatenate([h, b], name='first')\n",
        "\n",
        "b = Conv2D(128, (1,1), strides = (2,2))(h)\n",
        "b = BatchNormalization()(b)\n",
        "\n",
        "\n",
        "\n",
        "h = SeparableConv2D(128, (3,3), padding='same')(h)\n",
        "h = BatchNormalization()(h)\n",
        "h = tf.nn.relu(h)\n",
        "h = SeparableConv2D(128, (3,3), padding='same')(h)\n",
        "h = BatchNormalization()(h)\n",
        "h = MaxPooling2D((2,2), strides=(2,2))(h)\n",
        "\n",
        "h = concatenate([h, b], name='second')\n",
        "\n",
        "\n",
        "b = Conv2D(128, (1,1), padding='same')(h)\n",
        "b = BatchNormalization()(b)\n",
        "b = MaxPooling2D((2,2), strides=(2,2))(b)\n",
        "\n",
        "h = SeparableConv2D(256, (3,3), padding='same')(h)\n",
        "h = BatchNormalization()(h)\n",
        "h = tf.nn.relu(h)\n",
        "h = SeparableConv2D(256, (3,3), padding='same')(h)\n",
        "h = BatchNormalization()(h)\n",
        "h = MaxPooling2D((2,2), strides=(2,2))(h)\n",
        "\n",
        "\n",
        "h = concatenate([h, b], name='third')\n",
        "b = h\n",
        "\n",
        "\n",
        "h = tf.nn.relu(h)\n",
        "h = SeparableConv2D(512, (3,3), padding='same')(h)\n",
        "h = BatchNormalization()(h)\n",
        "h = tf.nn.relu(h)\n",
        "h = SeparableConv2D(512, (3,3), padding='same')(h)\n",
        "h = BatchNormalization()(h)\n",
        "h = tf.nn.relu(h)\n",
        "h = SeparableConv2D(512, (3,3), padding='same')(h)\n",
        "h = BatchNormalization()(h)\n",
        "\n",
        "h = concatenate([h, b], name='fourth')\n",
        "b = h\n",
        "\n",
        "\n",
        "h = tf.nn.relu(h)\n",
        "h = SeparableConv2D(512, (3,3), padding='same')(h)\n",
        "h = BatchNormalization()(h)\n",
        "h = tf.nn.relu(h)\n",
        "h = SeparableConv2D(256, (3,3), padding='same')(h)\n",
        "h = BatchNormalization()(h)\n",
        "h = tf.nn.relu(h)\n",
        "h = SeparableConv2D(256, (3,3), padding='same')(h)\n",
        "h = BatchNormalization()(h)\n",
        "\n",
        "\n",
        "h = concatenate([h, b], name='fifth')\n",
        "b = h\n",
        "\n",
        "\n",
        "b = Conv2D(256, (1,1), strides = (1,1))(h)\n",
        "b = BatchNormalization()(b)\n",
        "\n",
        "h = tf.nn.relu(h)\n",
        "h = SeparableConv2D(512, (3,3), padding='same')(h)\n",
        "h = BatchNormalization()(h)\n",
        "h = tf.nn.relu(h)\n",
        "h = SeparableConv2D(512, (3,3), padding='same')(h)\n",
        "h = BatchNormalization()(h)\n",
        "\n",
        "h = concatenate([h, b], name='sixth')\n",
        "\n",
        "h = SeparableConv2D(256, (3,3), padding='same')(h)\n",
        "h = BatchNormalization()(h)\n",
        "h = tf.nn.relu(h)\n",
        "\n",
        "h = SeparableConv2D(256, (3,3), padding='same')(h)\n",
        "h = BatchNormalization()(h)\n",
        "h = tf.nn.relu(h)\n",
        "\n",
        "h = GlobalAveragePooling2D()(h)\n",
        "\n",
        "h = Dense(128, activation='relu')(h)\n",
        "h = Dropout(0.4)(h)\n",
        "h = Dense(64, activation='relu')(h)\n",
        "h = Dropout(0.3)(h)\n",
        "h = Dense(7, activation='softmax')(h)\n",
        "\n",
        "outputs = h\n",
        "\n",
        "model = Model(inputs, outputs)\n",
        "model.summary()\n",
        "model.compile(optimizer = Adam(),\n",
        "              loss = 'categorical_crossentropy',\n",
        "              metrics = ['accuracy'])\n"
      ]
    },
    {
      "cell_type": "code",
      "execution_count": 17,
      "metadata": {
        "colab": {
          "base_uri": "https://localhost:8080/"
        },
        "id": "N7j_4cm6b8Bg",
        "outputId": "23f357b5-529d-4b7a-db6c-9bcf755a6ca7"
      },
      "outputs": [
        {
          "output_type": "stream",
          "name": "stdout",
          "text": [
            "Epoch 1/5\n",
            "89/89 [==============================] - 147s 768ms/step - loss: 1.8198 - accuracy: 0.2383 - val_loss: 1.9105 - val_accuracy: 0.2491\n",
            "Epoch 2/5\n",
            "89/89 [==============================] - 60s 668ms/step - loss: 1.7102 - accuracy: 0.3061 - val_loss: 1.8819 - val_accuracy: 0.1722\n",
            "Epoch 3/5\n",
            "89/89 [==============================] - 63s 708ms/step - loss: 1.5766 - accuracy: 0.3794 - val_loss: 1.8701 - val_accuracy: 0.1690\n",
            "Epoch 4/5\n",
            "89/89 [==============================] - 60s 673ms/step - loss: 1.4749 - accuracy: 0.4306 - val_loss: 1.8979 - val_accuracy: 0.1676\n",
            "Epoch 5/5\n",
            "89/89 [==============================] - 61s 686ms/step - loss: 1.4066 - accuracy: 0.4632 - val_loss: 1.8979 - val_accuracy: 0.1866\n"
          ]
        }
      ],
      "source": [
        "from tensorflow.keras.callbacks import ModelCheckpoint\n",
        "\n",
        "EPOCHS = 5\n",
        "BATCH_SIZE = 256\n",
        "\n",
        "# Number of samples in your training and validation sets\n",
        "train_num = train_dataset.samples\n",
        "valid_num = valid_dataset.samples\n",
        "\n",
        "# Fit the model\n",
        "history = model.fit(\n",
        "    train_dataset,\n",
        "    epochs=5,\n",
        "    steps_per_epoch=train_num // BATCH_SIZE,\n",
        "    validation_data=valid_dataset,\n",
        "    validation_steps=valid_num // BATCH_SIZE,\n",
        "    verbose=1\n",
        ")"
      ]
    },
    {
      "cell_type": "code",
      "execution_count": 18,
      "metadata": {
        "colab": {
          "base_uri": "https://localhost:8080/",
          "height": 472
        },
        "id": "cJ6BGBp8NogB",
        "outputId": "0ef32c57-4c15-48b5-c368-492cad6b6230"
      },
      "outputs": [
        {
          "output_type": "display_data",
          "data": {
            "text/plain": [
              "<Figure size 640x480 with 1 Axes>"
            ],
            "image/png": "[encoded data removed]"
          },
          "metadata": {}
        }
      ],
      "source": [
        "train_loss = history.history['loss']\n",
        "val_loss = history.history['val_loss']\n",
        "epochs = range(1, len(train_loss) + 1)\n",
        "plt.plot(epochs, train_loss, label='Training loss')\n",
        "plt.plot(epochs, val_loss, label='Validation loss')\n",
        "plt.title('Training and validation loss')\n",
        "plt.xlabel('Epochs')\n",
        "plt.ylabel('Loss')\n",
        "plt.legend()\n",
        "plt.show()\n",
        "\n"
      ]
    },
    {
      "cell_type": "code",
      "execution_count": 19,
      "metadata": {
        "colab": {
          "base_uri": "https://localhost:8080/",
          "height": 472
        },
        "id": "MTf4VPeDNwAl",
        "outputId": "4542667f-6bc3-40da-95d7-26dd6ad362ff"
      },
      "outputs": [
        {
          "output_type": "display_data",
          "data": {
            "text/plain": [
              "<Figure size 640x480 with 1 Axes>"
            ],
            "image/png": "[encoded data removed]"
          },
          "metadata": {}
        }
      ],
      "source": [
        "# Plot the train and validation accuracy\n",
        "train_acc = history.history['accuracy']\n",
        "val_acc = history.history['val_accuracy']\n",
        "plt.plot(epochs, train_acc, label='Training accuracy')\n",
        "plt.plot(epochs, val_acc, label='Validation accuracy')\n",
        "plt.title('Training and validation accuracy')\n",
        "plt.xlabel('Epochs')\n",
        "plt.ylabel('Accuracy')\n",
        "plt.legend()\n",
        "plt.show()"
      ]
    }
  ],
  "metadata": {
    "accelerator": "GPU",
    "colab": {
      "provenance": [],
      "gpuType": "T4"
    },
    "kernelspec": {
      "display_name": "Python 3",
      "name": "python3"
    },
    "language_info": {
      "name": "python"
    }
  },
  "nbformat": 4,
  "nbformat_minor": 0
}